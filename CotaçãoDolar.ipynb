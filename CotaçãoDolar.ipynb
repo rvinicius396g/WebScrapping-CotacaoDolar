{
 "cells": [
  {
   "cell_type": "markdown",
   "metadata": {},
   "source": [
    "### Importação dos dados\n",
    "Utilização da biblioteca pandas, beautiful soup e requests para obter os dados"
   ]
  },
  {
   "cell_type": "code",
   "execution_count": null,
   "metadata": {},
   "outputs": [],
   "source": [
    "import requests\n",
    "from bs4 import BeautifulSoup\n",
    "import pandas as pd\n",
    "# url = 'https://idealsoftwares.com.br/indices/dolar2024.html'\n",
    "# resp = requests.get(url)\n",
    "# soup = BeautifulSoup(resp.text, 'html5lib')\n",
    "\n",
    "d_cotacoes = []"
   ]
  },
  {
   "cell_type": "code",
   "execution_count": null,
   "metadata": {},
   "outputs": [],
   "source": [
    " def getCotacaoUS(*urls):\n",
    "    for url in urls:\n",
    "        #url = 'https://idealsoftwares.com.br/indices/dolar2024.html'\n",
    "        #url = 'https://idealsoftwares.com.br/indices/dolar2023.html'\n",
    "        resp = requests.get(url)\n",
    "\n",
    "        soup = BeautifulSoup(resp.text, 'html5lib')\n",
    "        #Retorna todos os tbody's\n",
    "        tbodies = soup.find_all('tbody')\n",
    "\n",
    "        for tbody in tbodies:\n",
    "            #Retorna todas as linhas\n",
    "            rows = tbody.find_all('tr')\n",
    "            for row in rows:\n",
    "                #Retorna as informaçõe somente onde houver 03 colunas (data, compra e venda)\n",
    "                columns = row.find_all('td')\n",
    "                if len(columns) == 3:\n",
    "                    date = columns[0].get_text(strip=True)\n",
    "                    compra = columns[1].get_text(strip=True)\n",
    "                    venda = columns[2].get_text(strip=True)\n",
    "                #Adicionando ao dicionário\n",
    "                    d_cotacoes.append({'Data':date,'Moeda':'US', 'Compra':compra, 'Venda':venda})"
   ]
  },
  {
   "cell_type": "code",
   "execution_count": null,
   "metadata": {},
   "outputs": [],
   "source": [
    "#Importação das cotações dos respectivos períodos informados\n",
    "getCotacaoUS('https://idealsoftwares.com.br/indices/dolar2024.html','https://idealsoftwares.com.br/indices/dolar2023.html','https://idealsoftwares.com.br/indices/dolar2022.html','https://idealsoftwares.com.br/indices/dolar2021.html','https://idealsoftwares.com.br/indices/dolar2020.html')\n"
   ]
  },
  {
   "cell_type": "code",
   "execution_count": null,
   "metadata": {},
   "outputs": [],
   "source": [
    "#d_cotacoes[1]"
   ]
  },
  {
   "cell_type": "code",
   "execution_count": null,
   "metadata": {},
   "outputs": [],
   "source": [
    "#Converte lista para um dataframe\n",
    "d_cotacoes = pd.DataFrame(d_cotacoes) "
   ]
  },
  {
   "cell_type": "code",
   "execution_count": null,
   "metadata": {},
   "outputs": [],
   "source": [
    "d_cotacoes.head()\n",
    "#d_cotacoes.describe()"
   ]
  },
  {
   "cell_type": "code",
   "execution_count": null,
   "metadata": {},
   "outputs": [],
   "source": [
    "d_cotacoes.dtypes"
   ]
  },
  {
   "cell_type": "code",
   "execution_count": null,
   "metadata": {},
   "outputs": [],
   "source": [
    "#d_cotacoes['Data'].astype(date)\n",
    "\n",
    "# Convertendo a coluna 'Data' para o tipo datetime\n",
    "d_cotacoes['Data'] = pd.to_datetime(d_cotacoes['Data'], dayfirst=True)\n",
    "d_cotacoes['Compra'] = pd.to_numeric(d_cotacoes['Compra'].str.replace(',','.'), downcast='float')\n",
    "d_cotacoes['Venda'] = pd.to_numeric(d_cotacoes['Venda'].str.replace(',','.'), downcast='float')\n",
    "\n",
    "#Removendo registros que estiverem sem dados NaN\n",
    "d_cotacoes = d_cotacoes.dropna()\n"
   ]
  },
  {
   "cell_type": "code",
   "execution_count": null,
   "metadata": {},
   "outputs": [],
   "source": [
    "#d_cotacoes['Venda'] = pd.to_numeric(d_cotacoes['Compra'].str.replace(',','.'), downcast='float')\n",
    "d_cotacoes.dtypes"
   ]
  },
  {
   "cell_type": "code",
   "execution_count": null,
   "metadata": {},
   "outputs": [],
   "source": [
    "d_cotacoes.describe()"
   ]
  },
  {
   "cell_type": "markdown",
   "metadata": {},
   "source": [
    "### Conexão com banco de dados\n",
    "Nesta seção será realizada a conexão com o banco de dados, para após tratamento dos dados, realizar a inserção das informações na tabela"
   ]
  },
  {
   "cell_type": "code",
   "execution_count": null,
   "metadata": {},
   "outputs": [],
   "source": [
    "import psycopg2\n",
    "from psycopg2 import Error"
   ]
  },
  {
   "cell_type": "code",
   "execution_count": null,
   "metadata": {},
   "outputs": [],
   "source": [
    "try:\n",
    "    # Parâmetros da conexão\n",
    "    conn_params = {\n",
    "        \"host\": \"localhost\",\n",
    "        \"database\": \"pd\",\n",
    "        \"user\": \"postgres\",\n",
    "        \"password\": \"postgres\"\n",
    "    }\n",
    "\n",
    "    # Conectar ao PostgreSQL\n",
    "    conn = psycopg2.connect(**conn_params)\n",
    "\n",
    "    # Criar um cursor\n",
    "    cursor = conn.cursor()\n",
    "\n",
    "    # Executar uma consulta SQL\n",
    "    cursor.execute(\"SELECT * FROM ms.ms_vlcotacao;\")\n",
    "    \n",
    "    # Recuperar os resultados da consulta\n",
    "    rows = cursor.fetchall()\n",
    "    \n",
    "    # Exibir os resultados\n",
    "    for row in rows:\n",
    "        print(row)\n",
    "\n",
    "except Error as e:\n",
    "    print(f\"Erro ao conectar ou manipular o PostgreSQL: {e}\")\n",
    " "
   ]
  },
  {
   "cell_type": "code",
   "execution_count": null,
   "metadata": {},
   "outputs": [],
   "source": [
    "#Loop pelos registros para inserir no banco de dados\n",
    "for index, row in d_cotacoes.iterrows():\n",
    "    data = row['Data']\n",
    "    moeda = row['Moeda']\n",
    "    compra = row['Compra']\n",
    "    venda = row['Venda']\n",
    "    \n",
    "    # Comando SQL de INSERT\n",
    "    sql = f\"INSERT INTO ms.ms_vlcotacao (\\\"Data\\\",moeda,compra,venda) VALUES ('{data}','{moeda}',{compra},{venda})\"\n",
    "    \n",
    "    # Executar o comando SQL\n",
    "    cursor.execute(sql)\n",
    "    \n",
    "# Confirmar a transação\n",
    "conn.commit()"
   ]
  },
  {
   "cell_type": "code",
   "execution_count": null,
   "metadata": {},
   "outputs": [],
   "source": []
  }
 ],
 "metadata": {
  "kernelspec": {
   "display_name": "Python 3 (ipykernel)",
   "language": "python",
   "name": "python3"
  },
  "language_info": {
   "codemirror_mode": {
    "name": "ipython",
    "version": 3
   },
   "file_extension": ".py",
   "mimetype": "text/x-python",
   "name": "python",
   "nbconvert_exporter": "python",
   "pygments_lexer": "ipython3",
   "version": "3.9.18"
  }
 },
 "nbformat": 4,
 "nbformat_minor": 2
}
