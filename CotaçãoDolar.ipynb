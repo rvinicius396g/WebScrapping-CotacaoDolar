{
 "cells": [
  {
   "cell_type": "markdown",
   "metadata": {},
   "source": [
    "### Importação dos dados\n",
    "Utilização da biblioteca pandas, beautiful soup e requests para obter os dados"
   ]
  },
  {
   "cell_type": "code",
   "execution_count": 1,
   "metadata": {},
   "outputs": [],
   "source": [
    "import requests\n",
    "from bs4 import BeautifulSoup\n",
    "import pandas as pd\n",
    "# url = 'https://idealsoftwares.com.br/indices/dolar2024.html'\n",
    "# resp = requests.get(url)\n",
    "# soup = BeautifulSoup(resp.text, 'html5lib')\n",
    "\n",
    "d_cotacoes = []"
   ]
  },
  {
   "cell_type": "code",
   "execution_count": 2,
   "metadata": {},
   "outputs": [],
   "source": [
    " def getCotacaoUS(*urls):\n",
    "    for url in urls:\n",
    "        #url = 'https://idealsoftwares.com.br/indices/dolar2024.html'\n",
    "        #url = 'https://idealsoftwares.com.br/indices/dolar2023.html'\n",
    "        resp = requests.get(url)\n",
    "\n",
    "        soup = BeautifulSoup(resp.text, 'html5lib')\n",
    "        #Retorna todos os tbody's\n",
    "        tbodies = soup.find_all('tbody')\n",
    "\n",
    "        for tbody in tbodies:\n",
    "            #Retorna todas as linhas\n",
    "            rows = tbody.find_all('tr')\n",
    "            for row in rows:\n",
    "                #Retorna as informaçõe somente onde houver 03 colunas (data, compra e venda)\n",
    "                columns = row.find_all('td')\n",
    "                if len(columns) == 3:\n",
    "                    date = columns[0].get_text(strip=True)\n",
    "                    compra = columns[1].get_text(strip=True)\n",
    "                    venda = columns[2].get_text(strip=True)\n",
    "                #Adicionando ao dicionário\n",
    "                    d_cotacoes.append({'Data':date,'Moeda':'US', 'Compra':compra, 'Venda':venda})"
   ]
  },
  {
   "cell_type": "code",
   "execution_count": 3,
   "metadata": {},
   "outputs": [],
   "source": [
    "#Importação das cotações dos respectivos períodos informados\n",
    "getCotacaoUS('https://idealsoftwares.com.br/indices/dolar2024.html','https://idealsoftwares.com.br/indices/dolar2023.html','https://idealsoftwares.com.br/indices/dolar2022.html','https://idealsoftwares.com.br/indices/dolar2021.html','https://idealsoftwares.com.br/indices/dolar2020.html')\n"
   ]
  },
  {
   "cell_type": "code",
   "execution_count": null,
   "metadata": {},
   "outputs": [],
   "source": [
    "#d_cotacoes[1]"
   ]
  },
  {
   "cell_type": "code",
   "execution_count": 4,
   "metadata": {},
   "outputs": [],
   "source": [
    "#Converte lista para um dataframe\n",
    "d_cotacoes = pd.DataFrame(d_cotacoes) "
   ]
  },
  {
   "cell_type": "code",
   "execution_count": 5,
   "metadata": {},
   "outputs": [
    {
     "data": {
      "text/html": [
       "<div>\n",
       "<style scoped>\n",
       "    .dataframe tbody tr th:only-of-type {\n",
       "        vertical-align: middle;\n",
       "    }\n",
       "\n",
       "    .dataframe tbody tr th {\n",
       "        vertical-align: top;\n",
       "    }\n",
       "\n",
       "    .dataframe thead th {\n",
       "        text-align: right;\n",
       "    }\n",
       "</style>\n",
       "<table border=\"1\" class=\"dataframe\">\n",
       "  <thead>\n",
       "    <tr style=\"text-align: right;\">\n",
       "      <th></th>\n",
       "      <th>Data</th>\n",
       "      <th>Moeda</th>\n",
       "      <th>Compra</th>\n",
       "      <th>Venda</th>\n",
       "    </tr>\n",
       "  </thead>\n",
       "  <tbody>\n",
       "    <tr>\n",
       "      <th>0</th>\n",
       "      <td>01/07/2024</td>\n",
       "      <td>US</td>\n",
       "      <td>5,5887</td>\n",
       "      <td>5,5893</td>\n",
       "    </tr>\n",
       "    <tr>\n",
       "      <th>1</th>\n",
       "      <td>02/07/2024</td>\n",
       "      <td>US</td>\n",
       "      <td>5,6671</td>\n",
       "      <td>5,6677</td>\n",
       "    </tr>\n",
       "    <tr>\n",
       "      <th>2</th>\n",
       "      <td>03/07/2024</td>\n",
       "      <td>US</td>\n",
       "      <td>5,5857</td>\n",
       "      <td>5,5863</td>\n",
       "    </tr>\n",
       "    <tr>\n",
       "      <th>3</th>\n",
       "      <td>04/07/2024</td>\n",
       "      <td>US</td>\n",
       "      <td>5,4833</td>\n",
       "      <td>5,4839</td>\n",
       "    </tr>\n",
       "    <tr>\n",
       "      <th>4</th>\n",
       "      <td>05/07/2024</td>\n",
       "      <td>US</td>\n",
       "      <td></td>\n",
       "      <td></td>\n",
       "    </tr>\n",
       "  </tbody>\n",
       "</table>\n",
       "</div>"
      ],
      "text/plain": [
       "         Data Moeda  Compra   Venda\n",
       "0  01/07/2024    US  5,5887  5,5893\n",
       "1  02/07/2024    US  5,6671  5,6677\n",
       "2  03/07/2024    US  5,5857  5,5863\n",
       "3  04/07/2024    US  5,4833  5,4839\n",
       "4  05/07/2024    US                "
      ]
     },
     "execution_count": 5,
     "metadata": {},
     "output_type": "execute_result"
    }
   ],
   "source": [
    "d_cotacoes.head()\n",
    "#d_cotacoes.describe()"
   ]
  },
  {
   "cell_type": "code",
   "execution_count": 6,
   "metadata": {},
   "outputs": [
    {
     "data": {
      "text/plain": [
       "Data      object\n",
       "Moeda     object\n",
       "Compra    object\n",
       "Venda     object\n",
       "dtype: object"
      ]
     },
     "execution_count": 6,
     "metadata": {},
     "output_type": "execute_result"
    }
   ],
   "source": [
    "#Exibe os tipos de dados ainda sem tratamento (objetct)\n",
    "d_cotacoes.dtypes"
   ]
  },
  {
   "cell_type": "code",
   "execution_count": 7,
   "metadata": {},
   "outputs": [],
   "source": [
    "#d_cotacoes['Data'].astype(date)\n",
    "\n",
    "# Convertendo a coluna 'Data' para o tipo datetime\n",
    "d_cotacoes['Data'] = pd.to_datetime(d_cotacoes['Data'], dayfirst=True)\n",
    "d_cotacoes['Compra'] = pd.to_numeric(d_cotacoes['Compra'].str.replace(',','.'), downcast='float')\n",
    "d_cotacoes['Venda'] = pd.to_numeric(d_cotacoes['Venda'].str.replace(',','.'), downcast='float')\n",
    "\n",
    "#Removendo registros que estiverem sem dados NaN\n",
    "d_cotacoes = d_cotacoes.dropna()\n"
   ]
  },
  {
   "cell_type": "code",
   "execution_count": 8,
   "metadata": {},
   "outputs": [
    {
     "data": {
      "text/plain": [
       "Data      datetime64[ns]\n",
       "Moeda             object\n",
       "Compra           float32\n",
       "Venda            float32\n",
       "dtype: object"
      ]
     },
     "execution_count": 8,
     "metadata": {},
     "output_type": "execute_result"
    }
   ],
   "source": [
    "#d_cotacoes['Venda'] = pd.to_numeric(d_cotacoes['Compra'].str.replace(',','.'), downcast='float')\n",
    "# Dados devidamente tratados\n",
    "d_cotacoes.dtypes"
   ]
  },
  {
   "cell_type": "code",
   "execution_count": 9,
   "metadata": {},
   "outputs": [
    {
     "data": {
      "text/html": [
       "<div>\n",
       "<style scoped>\n",
       "    .dataframe tbody tr th:only-of-type {\n",
       "        vertical-align: middle;\n",
       "    }\n",
       "\n",
       "    .dataframe tbody tr th {\n",
       "        vertical-align: top;\n",
       "    }\n",
       "\n",
       "    .dataframe thead th {\n",
       "        text-align: right;\n",
       "    }\n",
       "</style>\n",
       "<table border=\"1\" class=\"dataframe\">\n",
       "  <thead>\n",
       "    <tr style=\"text-align: right;\">\n",
       "      <th></th>\n",
       "      <th>Data</th>\n",
       "      <th>Compra</th>\n",
       "      <th>Venda</th>\n",
       "    </tr>\n",
       "  </thead>\n",
       "  <tbody>\n",
       "    <tr>\n",
       "      <th>count</th>\n",
       "      <td>1128</td>\n",
       "      <td>1128.000000</td>\n",
       "      <td>1128.000000</td>\n",
       "    </tr>\n",
       "    <tr>\n",
       "      <th>mean</th>\n",
       "      <td>2022-04-01 06:24:15.319148800</td>\n",
       "      <td>5.168765</td>\n",
       "      <td>42.156597</td>\n",
       "    </tr>\n",
       "    <tr>\n",
       "      <th>min</th>\n",
       "      <td>2020-01-02 00:00:00</td>\n",
       "      <td>4.020700</td>\n",
       "      <td>4.021300</td>\n",
       "    </tr>\n",
       "    <tr>\n",
       "      <th>25%</th>\n",
       "      <td>2021-02-10 18:00:00</td>\n",
       "      <td>4.979050</td>\n",
       "      <td>4.980375</td>\n",
       "    </tr>\n",
       "    <tr>\n",
       "      <th>50%</th>\n",
       "      <td>2022-04-02 12:00:00</td>\n",
       "      <td>5.182250</td>\n",
       "      <td>5.183350</td>\n",
       "    </tr>\n",
       "    <tr>\n",
       "      <th>75%</th>\n",
       "      <td>2023-05-17 06:00:00</td>\n",
       "      <td>5.367100</td>\n",
       "      <td>5.368375</td>\n",
       "    </tr>\n",
       "    <tr>\n",
       "      <th>max</th>\n",
       "      <td>2024-07-04 00:00:00</td>\n",
       "      <td>5.936600</td>\n",
       "      <td>41726.000000</td>\n",
       "    </tr>\n",
       "    <tr>\n",
       "      <th>std</th>\n",
       "      <td>NaN</td>\n",
       "      <td>0.311606</td>\n",
       "      <td>1242.219482</td>\n",
       "    </tr>\n",
       "  </tbody>\n",
       "</table>\n",
       "</div>"
      ],
      "text/plain": [
       "                                Data       Compra         Venda\n",
       "count                           1128  1128.000000   1128.000000\n",
       "mean   2022-04-01 06:24:15.319148800     5.168765     42.156597\n",
       "min              2020-01-02 00:00:00     4.020700      4.021300\n",
       "25%              2021-02-10 18:00:00     4.979050      4.980375\n",
       "50%              2022-04-02 12:00:00     5.182250      5.183350\n",
       "75%              2023-05-17 06:00:00     5.367100      5.368375\n",
       "max              2024-07-04 00:00:00     5.936600  41726.000000\n",
       "std                              NaN     0.311606   1242.219482"
      ]
     },
     "execution_count": 9,
     "metadata": {},
     "output_type": "execute_result"
    }
   ],
   "source": [
    "#estatísticas descritivas dos dados já tratados\n",
    "d_cotacoes.describe()"
   ]
  },
  {
   "cell_type": "markdown",
   "metadata": {},
   "source": [
    "### Conexão com banco de dados\n",
    "Nesta seção será realizada a conexão com o banco de dados, após tratamento dos dados realizar a inserção das informações na tabela"
   ]
  },
  {
   "cell_type": "code",
   "execution_count": null,
   "metadata": {},
   "outputs": [],
   "source": [
    "import psycopg2\n",
    "from psycopg2 import Error"
   ]
  },
  {
   "cell_type": "code",
   "execution_count": null,
   "metadata": {},
   "outputs": [],
   "source": [
    "try:\n",
    "    # Parâmetros da conexão\n",
    "    conn_params = {\n",
    "        \"host\": \"localhost\",\n",
    "        \"database\": \"pd\",\n",
    "        \"user\": \"postgres\",\n",
    "        \"password\": \"postgres\"\n",
    "    }\n",
    "\n",
    "    # Conectar ao PostgreSQL\n",
    "    conn = psycopg2.connect(**conn_params)\n",
    "\n",
    "    # Criar um cursor\n",
    "    cursor = conn.cursor()\n",
    "\n",
    "    # Executar uma consulta SQL\n",
    "    cursor.execute(\"SELECT * FROM ms.ms_vlcotacao;\")\n",
    "    \n",
    "    # Recuperar os resultados da consulta\n",
    "    rows = cursor.fetchall()\n",
    "    \n",
    "    # Exibir os resultados\n",
    "    for row in rows:\n",
    "        print(row)\n",
    "\n",
    "except Error as e:\n",
    "    print(f\"Erro ao conectar ou manipular o PostgreSQL: {e}\")\n",
    " "
   ]
  },
  {
   "cell_type": "code",
   "execution_count": null,
   "metadata": {},
   "outputs": [],
   "source": [
    "#Loop pelos registros para inserir no banco de dados\n",
    "for index, row in d_cotacoes.iterrows():\n",
    "    data = row['Data']\n",
    "    moeda = row['Moeda']\n",
    "    compra = row['Compra']\n",
    "    venda = row['Venda']\n",
    "    \n",
    "    # Comando SQL de INSERT\n",
    "    sql = f\"INSERT INTO ms.ms_vlcotacao (\\\"Data\\\",moeda,compra,venda) VALUES ('{data}','{moeda}',{compra},{venda})\"\n",
    "    \n",
    "    # Executar o comando SQL\n",
    "    cursor.execute(sql)\n",
    "    \n",
    "# Confirmar a transação\n",
    "conn.commit()"
   ]
  }
 ],
 "metadata": {
  "kernelspec": {
   "display_name": "Python 3 (ipykernel)",
   "language": "python",
   "name": "python3"
  },
  "language_info": {
   "codemirror_mode": {
    "name": "ipython",
    "version": 3
   },
   "file_extension": ".py",
   "mimetype": "text/x-python",
   "name": "python",
   "nbconvert_exporter": "python",
   "pygments_lexer": "ipython3",
   "version": "3.9.18"
  }
 },
 "nbformat": 4,
 "nbformat_minor": 2
}
